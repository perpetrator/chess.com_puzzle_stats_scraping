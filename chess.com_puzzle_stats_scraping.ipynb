{
 "cells": [
  {
   "cell_type": "code",
   "execution_count": 49,
   "metadata": {},
   "outputs": [],
   "source": [
    "import pandas as pd\n",
    "import requests\n",
    "import json\n",
    "from bs4 import BeautifulSoup\n",
    "from sqlalchemy import create_engine\n",
    "from datetime import datetime"
   ]
  },
  {
   "cell_type": "code",
   "execution_count": 50,
   "metadata": {},
   "outputs": [],
   "source": [
    "def parseDate(date):\n",
    "    return datetime.strptime(date, \"%b %d, %Y\")"
   ]
  },
  {
   "cell_type": "code",
   "execution_count": 57,
   "metadata": {},
   "outputs": [
    {
     "name": "stdout",
     "output_type": "stream",
     "text": [
      "Config successfully loaded!\n"
     ]
    }
   ],
   "source": [
    "    try:\n",
    "        config = json.load(open('config.json'))\n",
    "        print('Config successfully loaded!')\n",
    "    except:\n",
    "        print('There is a problem with the config file!')"
   ]
  },
  {
   "cell_type": "code",
   "execution_count": 52,
   "metadata": {},
   "outputs": [],
   "source": [
    "res = requests.get(\"https://www.chess.com/stats/puzzles/\"+config['chess_com_user'])\n",
    "soup = BeautifulSoup(res.content,'lxml')\n",
    "table = tab = soup.find(\"table\",{\"class\":\"table progress-table problems-table with-row-highlight\"})\n",
    "df = pd.read_html(str(table))[0]\n",
    "df['Date'] = df['Date'].apply(parseDate)"
   ]
  },
  {
   "cell_type": "code",
   "execution_count": 53,
   "metadata": {},
   "outputs": [],
   "source": [
    "try:\n",
    "    engine = create_engine('mysql+pymysql://'+config['user']+':'+config['password']+'@'+config['server']+'/'+config['db'])\n",
    "except:\n",
    "    print(\"There is a problem with DB connection\")"
   ]
  },
  {
   "cell_type": "code",
   "execution_count": 54,
   "metadata": {
    "scrolled": true
   },
   "outputs": [],
   "source": [
    "try:\n",
    "    existing = pd.read_sql(config['sql1'], engine, parse_dates = True)\n",
    "    existing = existing.drop(columns=['Number'])\n",
    "except:\n",
    "    existing = pd.DataFrame()"
   ]
  },
  {
   "cell_type": "code",
   "execution_count": 55,
   "metadata": {},
   "outputs": [],
   "source": [
    "if(not existing.empty):\n",
    "    df = df.merge(existing, on=['Date','Rating', 'Moves', 'Target Time', 'My Time', 'Outcome','Avg Time','My Rating', 'ID'], \n",
    "                   how='left', indicator=True).loc[lambda x : x['_merge']=='left_only']\n",
    "    df = df.drop(columns=['_merge'])\n",
    "else:\n",
    "    Print('First import!')"
   ]
  },
  {
   "cell_type": "code",
   "execution_count": 56,
   "metadata": {
    "scrolled": true
   },
   "outputs": [
    {
     "name": "stdout",
     "output_type": "stream",
     "text": [
      "Nihil novi\n"
     ]
    }
   ],
   "source": [
    "if(not df.empty):\n",
    "    df = df.iloc[::-1]\n",
    "    df.to_sql(config['table_name'], con=engine, if_exists='append',index = False)\n",
    "    print('New solved puzzles:')\n",
    "    print(df)\n",
    "else:\n",
    "    print(\"Nihil novi\")"
   ]
  },
  {
   "cell_type": "code",
   "execution_count": null,
   "metadata": {},
   "outputs": [],
   "source": []
  }
 ],
 "metadata": {
  "kernelspec": {
   "display_name": "Python 3",
   "language": "python",
   "name": "python3"
  },
  "language_info": {
   "codemirror_mode": {
    "name": "ipython",
    "version": 3
   },
   "file_extension": ".py",
   "mimetype": "text/x-python",
   "name": "python",
   "nbconvert_exporter": "python",
   "pygments_lexer": "ipython3",
   "version": "3.5.6"
  }
 },
 "nbformat": 4,
 "nbformat_minor": 4
}
